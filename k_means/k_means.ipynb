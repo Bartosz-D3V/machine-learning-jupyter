{
 "cells": [
  {
   "cell_type": "markdown",
   "metadata": {},
   "source": [
    "# K-means-clustering algorithm"
   ]
  },
  {
   "cell_type": "markdown",
   "metadata": {},
   "source": [
    "K-means-clustering is an algorithm is a popular clustering algorithm usually used to group common elements using clusters."
   ]
  },
  {
   "cell_type": "markdown",
   "metadata": {},
   "source": [
    "## Global imports"
   ]
  },
  {
   "cell_type": "code",
   "execution_count": 4,
   "metadata": {},
   "outputs": [],
   "source": [
    "import numpy as np\n",
    "from load_mat import load_mat\n",
    "from matplotlib import pyplot as plt"
   ]
  },
  {
   "cell_type": "markdown",
   "metadata": {},
   "source": [
    "## Loading dataset\n",
    "\n",
    "Matlab file ***'ex7data2.mat'*** located inside **data** directory contains matrix of size 300x2. It contains 300 example elements that will be used for visualization and later calculations. "
   ]
  },
  {
   "cell_type": "code",
   "execution_count": 1,
   "metadata": {},
   "outputs": [],
   "source": [
    "from load_mat import load_mat\n",
    "\n",
    "x = load_mat('./data/ex7data2.mat', 'X')"
   ]
  },
  {
   "cell_type": "markdown",
   "metadata": {},
   "source": [
    "## Visualize dataset\n",
    "\n",
    "**x** matrix contains X and Y position so visualizing data in 2D plot is straightforward."
   ]
  },
  {
   "cell_type": "code",
   "execution_count": 3,
   "metadata": {},
   "outputs": [
    {
     "data": {
      "image/png": "[encoded data removed]",
      "text/plain": [
       "<Figure size 432x288 with 1 Axes>"
      ]
     },
     "metadata": {
      "needs_background": "light"
     },
     "output_type": "display_data"
    }
   ],
   "source": [
    "from plot_data import plot_data\n",
    "\n",
    "plot_data(x)"
   ]
  },
  {
   "cell_type": "markdown",
   "metadata": {},
   "source": [
    "## Manually select initial centroids \n",
    "\n",
    "Firstly, let's select 'manually' potential centroids locations."
   ]
  },
  {
   "cell_type": "code",
   "execution_count": 7,
   "metadata": {},
   "outputs": [],
   "source": [
    "initial_centroids = np.array([[3, 3], [6, 2], [8, 5]])"
   ]
  },
  {
   "cell_type": "markdown",
   "metadata": {},
   "source": [
    "## Find closest centroid\n",
    "\n",
    "As a first step, we will find the closest centroid for each row in matrix x.\n",
    "\n",
    "The code is rather simple - it iterates through every row in X and every row in centroids matrix and check which centroid is the closest one.\n",
    "\n",
    "Essentially, the code for calculating the distance between two points is the following:\n",
    "\n",
    "\\begin{align}\n",
    "||a|| = \\sqrt{\\sum^{n}_{k=1}(X^{(k)} - Y^{(k)})^2}\n",
    "\\end{align}\n",
    "\n",
    "Where *k* indicates the *feature* of X (i.e. position), n indicating number of *features* and Y is the matrix representing the position of the centroid."
   ]
  },
  {
   "cell_type": "code",
   "execution_count": 8,
   "metadata": {},
   "outputs": [],
   "source": [
    "def find_closest_centroids(x, centroids):\n",
    "    dist_centroids = np.zeros((np.shape(x)[0], 1))\n",
    "    for i in range(0, np.shape(x)[0]):\n",
    "        num_of_centroids = np.shape(centroids)[0]\n",
    "        closest_centroids = np.zeros((num_of_centroids, 1))\n",
    "        for j in range(0, num_of_centroids):\n",
    "            x_el_pos = x[i, :]\n",
    "            curr_centroid_pos = centroids[j, :]\n",
    "            closest_centroids[j] = np.sqrt(np.sum((curr_centroid_pos - x_el_pos) ** 2))\n",
    "        dist_centroids[i] = np.argmin(closest_centroids)\n",
    "    return dist_centroids"
   ]
  },
  {
   "cell_type": "markdown",
   "metadata": {},
   "source": [
    "## Compute centroids\n",
    "\n",
    "The whole idea of centroids bases on *moving* the centroid to recalculate the position of the centroid using the mean of the points.\n",
    "\n",
    "The following function will take 2 parameters - matrix x, dist_centroids - indicating centroids closest to each of the points and number of centroids."
   ]
  },
  {
   "cell_type": "code",
   "execution_count": 9,
   "metadata": {},
   "outputs": [],
   "source": [
    "def compute_centroids(x, dist_centroids, num_of_centroids):\n",
    "    centroids = np.zeros((num_of_centroids, np.shape(x)[1]))\n",
    "    for i in range(0, num_of_centroids):\n",
    "        x_indexes = np.where(dist_centroids == i)\n",
    "        x_points = x[x_indexes[0], :]\n",
    "        x_points_len = np.size(x_points, 0)\n",
    "        x_mean = np.divide(np.sum(x_points, 0), x_points_len)\n",
    "        centroids[i, :] = x_mean\n",
    "    return centroids"
   ]
  },
  {
   "cell_type": "markdown",
   "metadata": {},
   "source": [
    "# Recalculate centroids position\n",
    "\n",
    "Idea behind K-means-clustering is that all centroids should move for each re-computation of the x points' means.\n",
    "\n",
    "The following function will repeat calculations few times to find best spot for each centroid.\n",
    "\n",
    "It will also show the progress that each centroid made, which helps visualize the progress."
   ]
  },
  {
   "cell_type": "code",
   "execution_count": 7,
   "metadata": {},
   "outputs": [
    {
     "data": {
      "image/png": "[encoded data removed]",
      "text/plain": [
       "<Figure size 432x288 with 1 Axes>"
      ]
     },
     "metadata": {
      "needs_background": "light"
     },
     "output_type": "display_data"
    }
   ],
   "source": [
    "from find_closest_centroids import find_closest_centroids\n",
    "from compute_centroids import compute_centroids\n",
    "\n",
    "x = load_mat('./data/ex7data2.mat', 'X')\n",
    "initial_centroids = np.array([[3, 3], [6, 2], [8, 5]])\n",
    "max_iters = 10\n",
    "centroids = initial_centroids\n",
    "past_centroids = centroids\n",
    "\n",
    "\n",
    "def get_color(i):\n",
    "    return {\n",
    "        0: \"r\",\n",
    "        1: \"k\",\n",
    "        2: \"g\"\n",
    "    }.get(i)\n",
    "\n",
    "\n",
    "def draw_progress(centroids, past_centroids):\n",
    "    for i in range(0, np.size(centroids, 0)):\n",
    "        plt.plot([centroids[i, :][0], past_centroids[i, :][0]], [centroids[i, :][1], past_centroids[i, :][1]],\n",
    "                 c=get_color(i))\n",
    "\n",
    "\n",
    "def plot_x_groups(x, idx):\n",
    "    for i in range(0, int(np.max(idx)) + 1):\n",
    "        x_group_indices = np.where(idx == i)\n",
    "        x_group = x[x_group_indices[0], :]\n",
    "        plt.plot(*zip(*x_group), marker=\"*\", linestyle=\"None\", c=get_color(i))\n",
    "\n",
    "\n",
    "plt.plot(*zip(*past_centroids), 'ob')\n",
    "\n",
    "for i in range(0, max_iters):\n",
    "    idx = find_closest_centroids(x, centroids)\n",
    "    past_centroids = centroids\n",
    "    centroids = compute_centroids(x, idx, 3)\n",
    "    plot_x_groups(x, idx)\n",
    "    draw_progress(centroids, past_centroids)\n",
    "    plt.plot(*zip(*centroids), 'ob')"
   ]
  },
  {
   "cell_type": "markdown",
   "metadata": {},
   "source": [
    "## Scikit usage\n",
    "\n",
    "The same code can be replaced with just few lines of code by using ML library SciKit and its implementation of K-means-clustering."
   ]
  },
  {
   "cell_type": "code",
   "execution_count": 12,
   "metadata": {},
   "outputs": [
    {
     "data": {
      "text/plain": [
       "[<matplotlib.lines.Line2D at 0x19fdc9c5f48>]"
      ]
     },
     "execution_count": 12,
     "metadata": {},
     "output_type": "execute_result"
    },
    {
     "data": {
      "image/png": "[encoded data removed]",
      "text/plain": [
       "<Figure size 432x288 with 1 Axes>"
      ]
     },
     "metadata": {
      "needs_background": "light"
     },
     "output_type": "display_data"
    }
   ],
   "source": [
    "from sklearn.cluster import KMeans\n",
    "from plot_data import plot_data\n",
    "\n",
    "def calc_centroids(x):\n",
    "    kmeans = KMeans(n_clusters=3, random_state=0).fit(x)\n",
    "    centroids = kmeans.cluster_centers_\n",
    "    return centroids\n",
    "\n",
    "calc_centroids = calc_centroids(x)\n",
    "plot_data(x)\n",
    "plt.plot(*zip(*calc_centroids), 'ob')"
   ]
  }
 ],
 "metadata": {
  "kernelspec": {
   "display_name": "machine-learning-jupyter-notes",
   "language": "python",
   "name": "machine-learning-jupyter-notes"
  },
  "language_info": {
   "codemirror_mode": {
    "name": "ipython",
    "version": 3
   },
   "file_extension": ".py",
   "mimetype": "text/x-python",
   "name": "python",
   "nbconvert_exporter": "python",
   "pygments_lexer": "ipython3",
   "version": "3.7.4"
  }
 },
 "nbformat": 4,
 "nbformat_minor": 4
}
