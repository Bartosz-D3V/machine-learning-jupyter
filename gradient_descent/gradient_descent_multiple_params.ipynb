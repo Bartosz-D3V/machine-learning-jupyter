{
 "cells": [
  {
   "cell_type": "code",
   "execution_count": 5,
   "metadata": {},
   "outputs": [],
   "source": [
    "import numpy as np\n",
    "from matplotlib import pyplot"
   ]
  },
  {
   "cell_type": "markdown",
   "metadata": {},
   "source": [
    "Gradient descent is an Machine Learning (ML) algorithm that helps finding parameters $\\theta_0$ to $\\theta_n$ to minimize the cost function result for a given function.\n",
    "\n",
    "In the following example, we can calculate the most optimal parameters from $\\theta_0$ to $\\theta_n$ for a linear function expressed with the following formula:\n",
    "\n",
    "\\begin{align}\n",
    "h_\\theta (x_0, x_1, x_2, x_3, ... x_n) = \\theta_0 + \\theta_1 x_1 + \\theta_2 x_2 + \\theta_3 x_3 + \\cdots + \\theta_n x_n\n",
    "\\end{align}\n",
    "\n",
    "We can easily represent the above formula using matrixes multiplication:\n",
    "\n",
    "\\begin{align}\n",
    "h(x_1, x_2, x_3, ... x_n) = \n",
    " \\begin{matrix}\n",
    "  [\\theta_0, \\theta_1, \\theta_2, \\theta_3, ... \\theta_N]\n",
    " \\end{matrix} * \n",
    " \\begin{matrix}\n",
    "  [1 \\\\\n",
    "  x_1 \\\\\n",
    "  x_2 \\\\\n",
    "  x_3 \\\\\n",
    "  ... \\\\\n",
    "  x_n]\n",
    " \\end{matrix}\n",
    " \\ = \\theta^T * x\n",
    "\\end{align}\n",
    "\n",
    "\n",
    "We will reference to the above formula as '**hypothesis**'."
   ]
  },
  {
   "cell_type": "markdown",
   "metadata": {},
   "source": [
    "Let's first have a look at the data set that we will be working with:\n",
    "\n",
    "| Size (m2) | Num of bedrooms | Num of floors |  Price ($) |\n",
    "|:---------:|:---------------:|:-------------:|:------:|\n",
    "|    641    |        8        |       3       | 700000 |\n",
    "|    300    |        4        |       2       | 560000 |\n",
    "|    350    |        5        |       2       | 500000 |\n",
    "|    180    |        3        |       1       | 250000 |\n",
    "\n",
    "Let's encode those values into arrays."
   ]
  },
  {
   "cell_type": "code",
   "execution_count": 6,
   "metadata": {},
   "outputs": [],
   "source": [
    "x = np.matrix([\n",
    "    [1, 641, 8, 3],\n",
    "    [1, 300, 4, 2],\n",
    "    [1, 350, 5, 2],\n",
    "    [1, 180, 3, 1]\n",
    "])"
   ]
  },
  {
   "cell_type": "markdown",
   "metadata": {},
   "source": [
    "...and the expected result:"
   ]
  },
  {
   "cell_type": "code",
   "execution_count": 7,
   "metadata": {},
   "outputs": [],
   "source": [
    "y = np.matrix([\n",
    "    [700000],\n",
    "    [560000],\n",
    "    [500000],\n",
    "    [250000]\n",
    "])"
   ]
  },
  {
   "cell_type": "code",
   "execution_count": 8,
   "metadata": {},
   "outputs": [],
   "source": [
    "alpha = .0008\n",
    "m = y.shape[0]"
   ]
  },
  {
   "cell_type": "markdown",
   "metadata": {},
   "source": [
    "Before we start the actual calculations, we should do **feature standarisation** which is a combination of feature scaling and mean normalisation.\n",
    "The formula is fairly simple:\n",
    "\\begin{align}\n",
    "X_i := \\dfrac{X_i - \\mu_i}{\\sigma_i}\n",
    "\\end{align}\n",
    "\n",
    "where\n",
    "\n",
    "\\begin{align}\n",
    "\\sigma_i = STD(X_i)\n",
    "\\end{align}\n",
    "\n",
    "and\n",
    "\n",
    "\\begin{align}\n",
    "\\mu_i = AVG(X_i)\n",
    "\\end{align}\n",
    "\n",
    "Recalculation formula for X:"
   ]
  },
  {
   "cell_type": "code",
   "execution_count": 9,
   "metadata": {},
   "outputs": [],
   "source": [
    "trimmed_x = np.delete(x, 0, 1);\n",
    "mu = np.mean(trimmed_x, 0)\n",
    "si = np.std(trimmed_x, 0)\n",
    "\n",
    "x_norm = (trimmed_x - mu) / si\n",
    "x_norm = np.append(np.ones((4, 1)), x_norm, 1)"
   ]
  },
  {
   "cell_type": "markdown",
   "metadata": {},
   "source": [
    "First step is to calculate the theta:\n",
    "\n",
    "\\begin{align*} & \\theta_j := \\theta_j - \\alpha \\frac{1}{m} \\sum\\limits_{i=1}^{m} (h_\\theta(x^{(i)}) - y^{(i)}) \\cdot x_j^{(i)} \\; & \\end{align*}"
   ]
  },
  {
   "cell_type": "code",
   "execution_count": 10,
   "metadata": {},
   "outputs": [],
   "source": [
    "def calc_theta(alpha, m, thetas, x, y):\n",
    "    return thetas - (alpha / m) * x.transpose() * (x * thetas - y)"
   ]
  },
  {
   "cell_type": "markdown",
   "metadata": {},
   "source": [
    "In order to draw a plot, we should first define a function that will calculate the cost:\n",
    "\n",
    "\\begin{align}\n",
    "J(\\theta) = \\dfrac{1}{2m} \\sum\\limits_{i=1}^{m} (h_\\theta(x_i) - y_i)^2\n",
    "\\end{align}"
   ]
  },
  {
   "cell_type": "code",
   "execution_count": 11,
   "metadata": {},
   "outputs": [],
   "source": [
    "def calc_cost_fun(m, x, thetas, y):\n",
    "    return 1 / (2 * m) * np.sum(np.square(x * thetas - y))"
   ]
  },
  {
   "cell_type": "markdown",
   "metadata": {},
   "source": [
    "Now, let's create a plot function"
   ]
  },
  {
   "cell_type": "code",
   "execution_count": 12,
   "metadata": {},
   "outputs": [],
   "source": [
    "def plot(i, cost):\n",
    "    pyplot.plot(i, cost, 'r', label='Cost function')\n",
    "    pyplot.legend(loc='upper left')\n",
    "    pyplot.axhline(y=0.5, color='b', linestyle='--')\n",
    "    pyplot.ylabel('Cost function value')\n",
    "    pyplot.xlabel('Number of iterations')\n",
    "    pyplot.show()"
   ]
  },
  {
   "cell_type": "markdown",
   "metadata": {},
   "source": [
    "Now, let's run the gradient descent multiple times till convergence."
   ]
  },
  {
   "cell_type": "code",
   "execution_count": 13,
   "metadata": {},
   "outputs": [
    {
     "data": {
      "image/png": "[encoded data removed]",
      "text/plain": [
       "<Figure size 432x288 with 1 Axes>"
      ]
     },
     "metadata": {
      "needs_background": "light"
     },
     "output_type": "display_data"
    },
    {
     "name": "stdout",
     "output_type": "stream",
     "text": [
      "Calculated theta values: \n",
      " [[493311.11330363]\n",
      " [ 34614.65184423]\n",
      " [ 19813.91074811]\n",
      " [ 96720.88608044]]\n"
     ]
    }
   ],
   "source": [
    "thetas = np.zeros([4, 1])\n",
    "cost_history = []\n",
    "iters = range(0, 5000)\n",
    "\n",
    "for i in iters:\n",
    "    thetas = calc_theta(alpha, m, thetas, x_norm, y)\n",
    "    cost = calc_cost_fun(m, x_norm, thetas, y)\n",
    "    cost_history.append(cost)\n",
    "\n",
    "plot(iters, cost_history)\n",
    "print(f\"Calculated theta values: \\n {thetas}\")"
   ]
  },
  {
   "cell_type": "markdown",
   "metadata": {},
   "source": [
    "Now, we can try to make a prediction for a property:\n",
    "\n",
    "| Size (m2) | Num of bedrooms | Num of floors |  Price ($) |\n",
    "|:---------:|:---------------:|:-------------:|:------:|\n",
    "|    400    |        4        |       2       | ?????? |\n",
    "|    200    |        2        |       3       | ?????? |"
   ]
  },
  {
   "cell_type": "code",
   "execution_count": 32,
   "metadata": {},
   "outputs": [
    {
     "name": "stdout",
     "output_type": "stream",
     "text": [
      "Estimated price for first property: $489308\n",
      "Estimated price for second property: $564049\n"
     ]
    }
   ],
   "source": [
    "params = np.matrix([\n",
    "    [1, 400, 4, 2],\n",
    "    [1, 200, 2, 3],\n",
    "])\n",
    "mu2 = np.append(np.zeros((1, 1)), mu, 1)\n",
    "si2 = np.append(np.ones((1, 1)), si, 1)\n",
    "print(f\"\"\"Estimated price for first property: ${int((params[0] - mu2) / si2 * thetas)}\n",
    "Estimated price for second property: ${int((params[1] - mu2) / si2 * thetas)}\"\"\")"
   ]
  },
  {
   "cell_type": "code",
   "execution_count": null,
   "metadata": {},
   "outputs": [],
   "source": []
  }
 ],
 "metadata": {
  "kernelspec": {
   "display_name": "machine-learning-jupyter-notes",
   "language": "python",
   "name": "machine-learning-jupyter-notes"
  },
  "language_info": {
   "codemirror_mode": {
    "name": "ipython",
    "version": 3
   },
   "file_extension": ".py",
   "mimetype": "text/x-python",
   "name": "python",
   "nbconvert_exporter": "python",
   "pygments_lexer": "ipython3",
   "version": "3.7.4"
  }
 },
 "nbformat": 4,
 "nbformat_minor": 4
}
