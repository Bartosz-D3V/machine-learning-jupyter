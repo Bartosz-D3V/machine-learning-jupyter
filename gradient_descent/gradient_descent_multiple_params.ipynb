{
 "cells": [
  {
   "cell_type": "code",
   "execution_count": 35,
   "metadata": {},
   "outputs": [],
   "source": [
    "import numpy as np\n",
    "from matplotlib import pyplot\n",
    "from mpl_toolkits.mplot3d import Axes3D"
   ]
  },
  {
   "cell_type": "markdown",
   "metadata": {},
   "source": [
    "Gradient descent is an Machine Learning (ML) algorithm that helps finding parameters $\\theta_0$ to $\\theta_n$ to minimize the cost function result for a given function.\n",
    "\n",
    "In the following example, we can calculate the most optimal parameters from $\\theta_0$ to $\\theta_n$ for a linear function expressed with the following formula:\n",
    "\n",
    "\\begin{align}\n",
    "h_\\theta (x_0, x_1, x_2, x_3, ... x_n) = \\theta_0 + \\theta_1 x_1 + \\theta_2 x_2 + \\theta_3 x_3 + \\cdots + \\theta_n x_n\n",
    "\\end{align}\n",
    "\n",
    "We can easily represent the above formula using matrixes multiplication:\n",
    "\n",
    "\\begin{align}\n",
    "h(x_1, x_2, x_3, ... x_n) = \n",
    " \\begin{matrix}\n",
    "  [\\theta_0, \\theta_1, \\theta_2, \\theta_3, ... \\theta_N]\n",
    " \\end{matrix} * \n",
    " \\begin{matrix}\n",
    "  [1 \\\\\n",
    "  x_1 \\\\\n",
    "  x_2 \\\\\n",
    "  x_3 \\\\\n",
    "  ... \\\\\n",
    "  x_n]\n",
    " \\end{matrix}\n",
    " \\ = \\theta^T * x\n",
    "\\end{align}\n",
    "\n",
    "\n",
    "We will reference to the above formula as '**hypothesis**'."
   ]
  },
  {
   "cell_type": "markdown",
   "metadata": {},
   "source": [
    "Let's first have a look at the data set that we will be working with:\n",
    "\n",
    "| Size (m2) | Num of bedrooms | Num of floors |  Price |\n",
    "|:---------:|:---------------:|:-------------:|:------:|\n",
    "|    641    |        8        |       3       | 700000 |\n",
    "|    300    |        4        |       2       | 560000 |\n",
    "|    350    |        5        |       2       | 500000 |\n",
    "|    180    |        3        |       1       | 250000 |\n",
    "\n",
    "Let's encode those values into arrays."
   ]
  },
  {
   "cell_type": "code",
   "execution_count": 25,
   "metadata": {},
   "outputs": [],
   "source": [
    "x1 = np.array([641, 300, 350, 180])\n",
    "x2 = np.array([8, 3, 5, 3])\n",
    "x3 = np.array([3, 2, 2, 1])"
   ]
  },
  {
   "cell_type": "markdown",
   "metadata": {},
   "source": [
    "...and the expected result:"
   ]
  },
  {
   "cell_type": "code",
   "execution_count": 16,
   "metadata": {},
   "outputs": [],
   "source": [
    "y = np.array([700000, 560000, 500000, 250000])"
   ]
  },
  {
   "cell_type": "markdown",
   "metadata": {},
   "source": [
    "Before going further we shall plot a diagram using pyplot library:"
   ]
  },
  {
   "cell_type": "code",
   "execution_count": 43,
   "metadata": {},
   "outputs": [
    {
     "data": {
      "text/plain": [
       "<mpl_toolkits.mplot3d.art3d.Path3DCollection at 0x1c90c012048>"
      ]
     },
     "execution_count": 43,
     "metadata": {},
     "output_type": "execute_result"
    },
    {
     "data": {
      "image/png": "[encoded data removed]",
      "text/plain": [
       "<Figure size 432x288 with 1 Axes>"
      ]
     },
     "metadata": {
      "needs_background": "light"
     },
     "output_type": "display_data"
    }
   ],
   "source": [
    "fig = pyplot.figure()\n",
    "ax = fig.add_subplot(111, projection='3d')\n",
    "pyplot.scatter(x1, x2, y, c='g', marker='d')"
   ]
  },
  {
   "cell_type": "markdown",
   "metadata": {},
   "source": [
    "Let's now represent our hypothesis as a Python code:"
   ]
  },
  {
   "cell_type": "code",
   "execution_count": 30,
   "metadata": {},
   "outputs": [],
   "source": [
    "def hypothesis(theta_matrix, x):\n",
    "    theta_matrix[np.newaxis].T.dot(x)"
   ]
  }
 ],
 "metadata": {
  "kernelspec": {
   "display_name": "machine-learning-jupyter-notes",
   "language": "python",
   "name": "machine-learning-jupyter-notes"
  },
  "language_info": {
   "codemirror_mode": {
    "name": "ipython",
    "version": 3
   },
   "file_extension": ".py",
   "mimetype": "text/x-python",
   "name": "python",
   "nbconvert_exporter": "python",
   "pygments_lexer": "ipython3",
   "version": "3.7.4"
  }
 },
 "nbformat": 4,
 "nbformat_minor": 4
}
