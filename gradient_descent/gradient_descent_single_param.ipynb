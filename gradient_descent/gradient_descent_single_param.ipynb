{
 "cells": [
  {
   "cell_type": "code",
   "execution_count": 1,
   "metadata": {},
   "outputs": [],
   "source": [
    "import numpy\n",
    "from matplotlib import pyplot"
   ]
  },
  {
   "cell_type": "markdown",
   "metadata": {},
   "source": [
    "Gradient descent is an Machine Learning (ML) algorithm that helps finding parameters $\\theta_0$ and $\\theta_1$ to minimize the cost function result for a given function.\n",
    "\n",
    "In the following example, we can calculate the most optimal parameters $\\theta_0$ and $\\theta_1$ for a linear function expressed with the following formula:\n",
    "\n",
    "\\begin{align}\n",
    "f(x) & = \\theta_0 \\ + \\theta_1 \\ x\n",
    "\\end{align}"
   ]
  },
  {
   "cell_type": "markdown",
   "metadata": {},
   "source": [
    "Let's setup some random data using random data."
   ]
  },
  {
   "cell_type": "code",
   "execution_count": 83,
   "metadata": {},
   "outputs": [],
   "source": [
    "rand_x = 4 * numpy.random.rand(50,1)\n",
    "rand_y = numpy.random.rand(50,1) + 2.15 * rand_x"
   ]
  },
  {
   "cell_type": "markdown",
   "metadata": {},
   "source": [
    "Diagram on cartesian grid looks like this:"
   ]
  },
  {
   "cell_type": "code",
   "execution_count": 3,
   "metadata": {},
   "outputs": [
    {
     "data": {
      "text/plain": [
       "[<matplotlib.lines.Line2D at 0x16e439f8f48>]"
      ]
     },
     "execution_count": 3,
     "metadata": {},
     "output_type": "execute_result"
    },
    {
     "data": {
      "image/png": "[encoded data removed]",
      "text/plain": [
       "<Figure size 432x288 with 1 Axes>"
      ]
     },
     "metadata": {
      "needs_background": "light"
     },
     "output_type": "display_data"
    }
   ],
   "source": [
    "pyplot.plot(rand_x, rand_y, 'co')"
   ]
  },
  {
   "cell_type": "markdown",
   "metadata": {},
   "source": [
    "Our goal is to calculate parameters $\\theta_0$ and $\\theta_1$ so that the drawn function will have the minimal loss (cost) function."
   ]
  },
  {
   "cell_type": "markdown",
   "metadata": {},
   "source": [
    "For convenience we will convert $\\theta_0$ and $\\theta_1$ as b and a respectively:\n",
    "\\begin{align}\n",
    "f(x) & = b + ax\n",
    "\\end{align}"
   ]
  },
  {
   "cell_type": "code",
   "execution_count": 20,
   "metadata": {},
   "outputs": [],
   "source": [
    "# Let's define our linear function as a lambda function in Python\n",
    "b = 0 # Initially 0, will update later on\n",
    "a = 0 # Initially 0, will update later on\n",
    "fun_y = lambda x: b + a * x"
   ]
  },
  {
   "cell_type": "markdown",
   "metadata": {},
   "source": [
    "$$a = a - \\alpha \\frac{1}{k} \\sum_{i=1}^{k} ((f(x^{i}) - y^{i}) * x^{i})$$\n",
    "$$b = b - \\alpha \\frac{1}{k} \\sum_{i=1}^{k} (f(x^{i}) - y^{i})$$"
   ]
  },
  {
   "cell_type": "markdown",
   "metadata": {},
   "source": [
    "Let's start by defining algorithm to formula 1 for calculating a."
   ]
  },
  {
   "cell_type": "code",
   "execution_count": 50,
   "metadata": {},
   "outputs": [],
   "source": [
    "def find_summation(fun_y, x_points, y_points):\n",
    "    total1, total2 = 0, 0\n",
    "    for i in range(0, len(x_points)):\n",
    "        total1 += (fun_y(x_points[i]) - y_points[i]) * x_points[i]\n",
    "        total2 += fun_y(x_points[i]) - y_points[i]\n",
    "    return total1, total2"
   ]
  },
  {
   "cell_type": "markdown",
   "metadata": {},
   "source": [
    "The above formulas calculate just the summation in the given algorithm, we still need to make the calculations for the formula that comes before the summation sign ($\\sum$)."
   ]
  },
  {
   "cell_type": "markdown",
   "metadata": {},
   "source": [
    "Let's write a function for this and repeat if few times."
   ]
  },
  {
   "cell_type": "code",
   "execution_count": 78,
   "metadata": {},
   "outputs": [],
   "source": [
    "alpha = .0001"
   ]
  },
  {
   "cell_type": "code",
   "execution_count": 84,
   "metadata": {},
   "outputs": [
    {
     "name": "stdout",
     "output_type": "stream",
     "text": [
      "Parameter a found: [2.03696016]\n",
      "Parameter b found: [0.7069539]\n"
     ]
    }
   ],
   "source": [
    "a, b = 0, 0\n",
    "for i in range(7000):\n",
    "    summation = find_summation(fun_y, rand_x, rand_y)\n",
    "    a -= alpha * summation[0] / len(rand_x)\n",
    "    b -= alpha * summation[1] / len(rand_x)\n",
    "print(f\"Parameter a found: {a}\")\n",
    "print(f\"Parameter b found: {b}\")"
   ]
  },
  {
   "cell_type": "markdown",
   "metadata": {},
   "source": [
    "After drawing a diagram using calculated variables a and b we can see the progress of learning algorithm over time."
   ]
  },
  {
   "cell_type": "code",
   "execution_count": 85,
   "metadata": {},
   "outputs": [],
   "source": [
    "def plot_line(fun_y, x):\n",
    "    y = [fun_y(x) for x in x]\n",
    "    pyplot.plot(x, y, 'r')\n",
    "    pyplot.plot(rand_x, rand_y, 'co')"
   ]
  },
  {
   "cell_type": "code",
   "execution_count": 86,
   "metadata": {},
   "outputs": [
    {
     "data": {
      "image/png": "[encoded data removed]",
      "text/plain": [
       "<Figure size 432x288 with 1 Axes>"
      ]
     },
     "metadata": {
      "needs_background": "light"
     },
     "output_type": "display_data"
    }
   ],
   "source": [
    "plot_line(fun_y, rand_x)"
   ]
  },
  {
   "cell_type": "markdown",
   "metadata": {},
   "source": [
    "As we know the values a and b, we can formalize our function y using the following formula:\n",
    "\\begin{align}\n",
    "f(x) & = 0.70695 + 2.03696x\n",
    "\\end{align}"
   ]
  },
  {
   "cell_type": "markdown",
   "metadata": {},
   "source": [
    "Which can now be used to make some simple predictions."
   ]
  }
 ],
 "metadata": {
  "kernelspec": {
   "display_name": "machine-learning-jupyter-notes",
   "language": "python",
   "name": "machine-learning-jupyter-notes"
  },
  "language_info": {
   "codemirror_mode": {
    "name": "ipython",
    "version": 3
   },
   "file_extension": ".py",
   "mimetype": "text/x-python",
   "name": "python",
   "nbconvert_exporter": "python",
   "pygments_lexer": "ipython3",
   "version": "3.7.4"
  }
 },
 "nbformat": 4,
 "nbformat_minor": 4
}
