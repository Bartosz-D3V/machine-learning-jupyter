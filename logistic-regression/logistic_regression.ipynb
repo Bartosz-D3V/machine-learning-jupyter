{
 "cells": [
  {
   "cell_type": "code",
   "execution_count": 46,
   "metadata": {},
   "outputs": [],
   "source": [
    "import math\n",
    "import os\n",
    "import numpy as np\n",
    "from matplotlib import pyplot"
   ]
  },
  {
   "cell_type": "markdown",
   "metadata": {},
   "source": [
    "Logistic regression is a statistical model widely used in Machine Learning to predict outcome that can be classified into well defined groups.\n",
    "For instance: pass/fail, healhy/sick, win/lose etc. It can be also used to classify events - for example, determine whether the image contains specific object (i.e. dog).\n",
    "\n",
    "Because it makes more sense to have a function (model) which values are between 0 and 1, sigmoid function is used as a basic model for prediction outcome.\n",
    "\n",
    "\\begin{align}\n",
    "g(z) = \\dfrac{1}{1 + e^{-z}}\n",
    "\\end{align}\n",
    "\n",
    "Drawing a sigmoid function in Python is easy:"
   ]
  },
  {
   "cell_type": "code",
   "execution_count": 38,
   "metadata": {},
   "outputs": [
    {
     "data": {
      "image/png": "[encoded data removed]",
      "text/plain": [
       "<Figure size 432x288 with 1 Axes>"
      ]
     },
     "metadata": {
      "needs_background": "light"
     },
     "output_type": "display_data"
    }
   ],
   "source": [
    "rand_z = np.arange(-10., 10., 0.01)\n",
    "g = lambda z: 1 / (1 + math.e ** (-z))\n",
    "calc_g = [g(z) for z in rand_z]\n",
    "\n",
    "pyplot.plot(rand_z, calc_g, color='b', lw=2)\n",
    "pyplot.gca().grid()"
   ]
  },
  {
   "cell_type": "markdown",
   "metadata": {},
   "source": [
    "In the simplest form, everything above value 0.5 is considered to fit the model.\n",
    "Let's import data from CSV file - it was provided as part of a great Andrew Ng's course on coursera. It contains three columns:\n",
    "- Column 1: Result (in %) from first exam\n",
    "- Column 2: Result (in %) from second exam\n",
    "- Column 3: 1 (Accepted) or 0 (Rejected) - indicator whether student got admitted into Uni (based on exam results)\n"
   ]
  },
  {
   "cell_type": "code",
   "execution_count": 62,
   "metadata": {},
   "outputs": [],
   "source": [
    "student_results = np.genfromtxt('logistic-regression/exams_results.csv', delimiter=',')\n",
    "X = student_results[:, [0,1]] # <-- Dataset\n",
    "y = student_results[:, [2]] # <-- Actual outcome"
   ]
  },
  {
   "cell_type": "markdown",
   "metadata": {},
   "source": [
    "Plotting this dataset might be a bit trickier as we need two separate indicators - one for students that got admitted into university and the other ones that were not."
   ]
  },
  {
   "cell_type": "code",
   "execution_count": null,
   "metadata": {},
   "outputs": [],
   "source": []
  }
 ],
 "metadata": {
  "kernelspec": {
   "display_name": "machine-learning-jupyter-notes",
   "language": "python",
   "name": "machine-learning-jupyter-notes"
  },
  "language_info": {
   "codemirror_mode": {
    "name": "ipython",
    "version": 3
   },
   "file_extension": ".py",
   "mimetype": "text/x-python",
   "name": "python",
   "nbconvert_exporter": "python",
   "pygments_lexer": "ipython3",
   "version": "3.7.4"
  }
 },
 "nbformat": 4,
 "nbformat_minor": 4
}
