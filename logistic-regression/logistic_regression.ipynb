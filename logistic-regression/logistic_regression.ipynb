{
 "cells": [
  {
   "cell_type": "code",
   "execution_count": 1,
   "metadata": {},
   "outputs": [],
   "source": [
    "import math\n",
    "import numpy as np\n",
    "from matplotlib import pyplot\n",
    "import scipy.optimize as opt"
   ]
  },
  {
   "cell_type": "markdown",
   "metadata": {},
   "source": [
    "Logistic regression is a statistical model widely used in Machine Learning to predict outcome that can be classified into well defined groups.\n",
    "For instance: pass/fail, healhy/sick, win/lose etc. It can be also used to classify events - for example, determine whether the image contains specific object (i.e. dog).\n",
    "\n",
    "Because it makes more sense to have a function (model) which values are between 0 and 1, sigmoid function is used as a basic model for prediction outcome.\n",
    "\n",
    "\\begin{align}\n",
    "g(z) = \\dfrac{1}{1 + e^{-z}}\n",
    "\\end{align}\n",
    "\n",
    "Drawing a sigmoid function in Python is easy:"
   ]
  },
  {
   "cell_type": "code",
   "execution_count": 2,
   "metadata": {},
   "outputs": [
    {
     "data": {
      "image/png": "[encoded data removed]",
      "text/plain": [
       "<Figure size 432x288 with 1 Axes>"
      ]
     },
     "metadata": {
      "needs_background": "light"
     },
     "output_type": "display_data"
    }
   ],
   "source": [
    "rand_z = np.arange(-10., 10., 0.01)\n",
    "g = lambda z: 1 / (1 + math.e ** (-z))\n",
    "calc_g = [g(z) for z in rand_z]\n",
    "\n",
    "pyplot.plot(rand_z, calc_g, color='b', lw=2)\n",
    "pyplot.gca().grid()"
   ]
  },
  {
   "cell_type": "markdown",
   "metadata": {},
   "source": [
    "In the simplest form, everything above value 0.5 is considered to fit the model.\n",
    "Let's import data from CSV file - it was provided as part of a great Andrew Ng's course on coursera. It contains three columns:\n",
    "- Column 1: Result (in %) from first exam\n",
    "- Column 2: Result (in %) from second exam\n",
    "- Column 3: 1 (Accepted) or 0 (Rejected) - indicator whether student got admitted into Uni (based on exam results)\n"
   ]
  },
  {
   "cell_type": "code",
   "execution_count": 3,
   "metadata": {},
   "outputs": [],
   "source": [
    "student_results = np.genfromtxt('exams_results.csv', delimiter=',')\n",
    "X = student_results[:, [0,1]] # <-- Dataset\n",
    "X = np.concatenate((np.ones((100, 1)), X), axis = 1) # <-- Dataset with 1 added as a first X value\n",
    "y = student_results[:, [2]] # <-- Actual outcome"
   ]
  },
  {
   "cell_type": "markdown",
   "metadata": {},
   "source": [
    "Plotting this dataset might be a bit trickier as we need two separate indicators - one for students that got admitted into university and the other ones that were not."
   ]
  },
  {
   "cell_type": "code",
   "execution_count": 52,
   "metadata": {},
   "outputs": [
    {
     "data": {
      "image/png": "[encoded data removed]",
      "text/plain": [
       "<Figure size 432x288 with 1 Axes>"
      ]
     },
     "metadata": {
      "needs_background": "light"
     },
     "output_type": "display_data"
    }
   ],
   "source": [
    "def plot_dataset():\n",
    "    positive_X = student_results[student_results[:, -1] == 1][:, [0, 1]]\n",
    "    negative_X = student_results[student_results[:, -1] == 0][:, [0, 1]]\n",
    "    positive_X_exam_1 = positive_X[:,[0]]\n",
    "    positive_X_exam_2 = positive_X[:,[1]]\n",
    "    negative_X_exam_1 = negative_X[:,[0]]\n",
    "    negative_X_exam_2 = negative_X[:,[1]]\n",
    "    \n",
    "    \n",
    "    pyplot.plot(positive_X_exam_1, positive_X_exam_2, '*b', label='Acceptted')\n",
    "    pyplot.plot(negative_X_exam_1, negative_X_exam_2, 'xr', label='Rejected')\n",
    "    pyplot.legend(loc='upper right')\n",
    "    pyplot.xlabel('Exam 1 results (%)')\n",
    "    pyplot.ylabel('Exam 2 results (%)')\n",
    "plot_dataset()"
   ]
  },
  {
   "cell_type": "markdown",
   "metadata": {},
   "source": [
    "Before we go further, we need to map our features (X) to polynomial features."
   ]
  },
  {
   "cell_type": "code",
   "execution_count": 5,
   "metadata": {},
   "outputs": [
    {
     "name": "stdout",
     "output_type": "stream",
     "text": [
      "None\n"
     ]
    }
   ],
   "source": [
    "def mapPolynomial(x1, x2):\n",
    "    degrees = 6\n",
    "    mappedX = np.ones((np.size(x1), 1))\n",
    "\n",
    "print(mapPolynomial(X[0:,[1]], X[0:,[2]]))"
   ]
  },
  {
   "cell_type": "markdown",
   "metadata": {},
   "source": [
    "Let's now take a look at some mathematics behind logistic regression.\n",
    "\n",
    "\\begin{align}\n",
    "h = g(X\\theta)\n",
    "\\end{align}\n",
    "\n",
    "We defined $g$ previously - it is a sigmoid function and $\\theta$ is a vector o theta values we want to discover.\n",
    "\n",
    "Vectorized (and regularized) cost function $J$ looks like this:\n",
    "\n",
    "\\begin{align}\n",
    "J(\\theta) = \\dfrac{1}{m} \\sum\\limits_{i=1}^{m}[-y^{(i)}log(h_{\\theta}(x^{(i)})) - (1 - y^{(i)})log(1 - h_{\\theta}(x^{(i)}))] + \\dfrac{\\lambda}{2m}\\sum\\limits_{j=1}^{n} \\theta_{j}^{2}\n",
    "\\end{align}\n",
    "\n",
    "Below is Python code for calculating $J(\\theta)$"
   ]
  },
  {
   "cell_type": "code",
   "execution_count": 6,
   "metadata": {},
   "outputs": [],
   "source": [
    "LAMBDA = 1\n",
    "thetas = np.zeros([np.size(X[0]), 1])\n",
    "m = np.shape(X)[0]\n",
    "h0x = g(X.dot(thetas))\n",
    "J = (1 / m) * np.sum((-y * np.log(h0x)) - (1 - y) * np.log(1 - h0x))# + (LAMBDA / 2 * m) * np.sum(np.power(thetas[1:], 2))"
   ]
  },
  {
   "cell_type": "markdown",
   "metadata": {},
   "source": [
    "...and for calculating $\\theta$ we need to use the following mathematical formula:\n",
    "\n",
    "\\begin{align}\n",
    "\\frac{\\partial J(\\theta)}{\\partial \\theta_{j}} = \\dfrac{1}{m} \\sum\\limits_{i=1}^{m}(h_{\\theta}(x^{i}) - y^{i})x_{j}^{(i)} + \\dfrac{\\lambda}{m} \\theta_{j > 1}\n",
    "\\end{align}\n",
    "\n",
    "Please note that we are just calculating partial derivative of the gradient.\n",
    "\n",
    "Vectorized formula:\n",
    "\n",
    "\\begin{align}\n",
    "\\theta = \\dfrac{1}{m}X^{T}(g(X\\theta) - y)+\\dfrac{\\lambda}{m} \\theta_{j > 1}\n",
    "\\end{align}\n",
    "\n",
    "\n",
    "Actual gradient value will by calculated using 3rd party library (SciPy)."
   ]
  },
  {
   "cell_type": "code",
   "execution_count": 7,
   "metadata": {},
   "outputs": [],
   "source": [
    "grad = ((1 / m) * X.transpose().dot(h0x - y)) #+ (LAMBDA / m) * thetas)\n",
    "grad[0:1] = ((1 / m) * X.transpose().dot(h0x - y))[0:1]"
   ]
  },
  {
   "cell_type": "markdown",
   "metadata": {},
   "source": [
    "Let's combine gradiet and cost calculations into functions:"
   ]
  },
  {
   "cell_type": "code",
   "execution_count": 8,
   "metadata": {},
   "outputs": [],
   "source": [
    "def calcCost(thetas, X, y, LAMBDA):\n",
    "    h0x = g(X.dot(thetas))\n",
    "    return (1 / m) * np.sum((-y * np.log(h0x)) - (1 - y) * np.log(1 - h0x)) #+ (LAMBDA / 2 * m) * np.sum(np.power(thetas[1:], 2))\n",
    "\n",
    "def calcGradient(thetas, X, y, LAMBDA):\n",
    "    h0x = g(X.dot(thetas))\n",
    "    grad = ((1 / m) * X.transpose().dot(h0x - y)) #+ (LAMBDA / m) * thetas)\n",
    "    grad[0:1] = ((1 / m) * X.transpose().dot(h0x - y))[0:1]\n",
    "    return grad\n",
    "\n",
    "gr = calcGradient(np.zeros([np.size(X[0]), 1]), X, y, LAMBDA)"
   ]
  },
  {
   "cell_type": "markdown",
   "metadata": {},
   "source": [
    "Now, let's minimize function using SciPy library:"
   ]
  },
  {
   "cell_type": "code",
   "execution_count": 11,
   "metadata": {},
   "outputs": [],
   "source": [
    "thetas = opt.fmin_tnc(func = calcCost, x0 = thetas.flatten(), fprime = calcGradient, args=(X, y.flatten(), LAMBDA))[0]"
   ]
  },
  {
   "cell_type": "markdown",
   "metadata": {},
   "source": [
    "With calculated thetas we can plot a function."
   ]
  },
  {
   "cell_type": "code",
   "execution_count": 34,
   "metadata": {},
   "outputs": [
    {
     "ename": "ValueError",
     "evalue": "setting an array element with a sequence.",
     "output_type": "error",
     "traceback": [
      "\u001b[1;31m---------------------------------------------------------------------------\u001b[0m",
      "\u001b[1;31mValueError\u001b[0m                                Traceback (most recent call last)",
      "\u001b[1;32m<ipython-input-34-f1dde2676534>\u001b[0m in \u001b[0;36m<module>\u001b[1;34m\u001b[0m\n\u001b[0;32m      6\u001b[0m \u001b[1;32mfor\u001b[0m \u001b[0mi\u001b[0m \u001b[1;32min\u001b[0m \u001b[0mrange\u001b[0m\u001b[1;33m(\u001b[0m\u001b[1;36m1\u001b[0m\u001b[1;33m,\u001b[0m \u001b[0mlen\u001b[0m\u001b[1;33m(\u001b[0m\u001b[0mu\u001b[0m\u001b[1;33m)\u001b[0m\u001b[1;33m)\u001b[0m\u001b[1;33m:\u001b[0m\u001b[1;33m\u001b[0m\u001b[1;33m\u001b[0m\u001b[0m\n\u001b[0;32m      7\u001b[0m     \u001b[1;32mfor\u001b[0m \u001b[0mj\u001b[0m \u001b[1;32min\u001b[0m \u001b[0mrange\u001b[0m\u001b[1;33m(\u001b[0m\u001b[1;36m1\u001b[0m\u001b[1;33m,\u001b[0m \u001b[0mlen\u001b[0m\u001b[1;33m(\u001b[0m\u001b[0mv\u001b[0m\u001b[1;33m)\u001b[0m\u001b[1;33m)\u001b[0m\u001b[1;33m:\u001b[0m\u001b[1;33m\u001b[0m\u001b[1;33m\u001b[0m\u001b[0m\n\u001b[1;32m----> 8\u001b[1;33m         \u001b[0mz\u001b[0m\u001b[1;33m[\u001b[0m\u001b[0mi\u001b[0m\u001b[1;33m,\u001b[0m \u001b[0mj\u001b[0m\u001b[1;33m]\u001b[0m \u001b[1;33m=\u001b[0m \u001b[0mmap_features\u001b[0m\u001b[1;33m(\u001b[0m\u001b[0mu\u001b[0m\u001b[1;33m[\u001b[0m\u001b[0mi\u001b[0m\u001b[1;33m]\u001b[0m\u001b[1;33m,\u001b[0m \u001b[0mv\u001b[0m\u001b[1;33m[\u001b[0m\u001b[0mj\u001b[0m\u001b[1;33m]\u001b[0m\u001b[1;33m)\u001b[0m \u001b[1;31m#* thetas\u001b[0m\u001b[1;33m\u001b[0m\u001b[1;33m\u001b[0m\u001b[0m\n\u001b[0m\u001b[0;32m      9\u001b[0m \u001b[1;33m\u001b[0m\u001b[0m\n\u001b[0;32m     10\u001b[0m \u001b[1;32mdef\u001b[0m \u001b[0mmap_features\u001b[0m\u001b[1;33m(\u001b[0m\u001b[0mx1\u001b[0m\u001b[1;33m,\u001b[0m \u001b[0mx2\u001b[0m\u001b[1;33m)\u001b[0m\u001b[1;33m:\u001b[0m\u001b[1;33m\u001b[0m\u001b[1;33m\u001b[0m\u001b[0m\n",
      "\u001b[1;31mValueError\u001b[0m: setting an array element with a sequence."
     ]
    }
   ],
   "source": [
    "# degree = 6\n",
    "# u = np.linspace(-1, 1.5, 50)\n",
    "# v = np.linspace(-1, 1.5, 50)\n",
    "# z = np.zeros((len(u), len(v)))\n",
    "\n",
    "# for i in range(1, len(u)):\n",
    "#     for j in range(1, len(v)):\n",
    "#         z[i, j] = map_features(u[i], v[j]) #* thetas\n",
    "\n",
    "# def map_features(x1, x2):\n",
    "#     for i in range(1, degree):\n",
    "#         for j in range(0, i):\n",
    "#             print(z[:,:-1])\n",
    "#             z[:,:-1] = (np.power(x1, (i - j)) * np.power(x2, j))\n",
    "#     return z"
   ]
  },
  {
   "cell_type": "code",
   "execution_count": 65,
   "metadata": {},
   "outputs": [
    {
     "data": {
      "text/plain": [
       "[<matplotlib.lines.Line2D at 0x2864bccd888>]"
      ]
     },
     "execution_count": 65,
     "metadata": {},
     "output_type": "execute_result"
    },
    {
     "data": {
      "image/png": "[encoded data removed]",
      "text/plain": [
       "<Figure size 432x288 with 1 Axes>"
      ]
     },
     "metadata": {
      "needs_background": "light"
     },
     "output_type": "display_data"
    }
   ],
   "source": [
    "plot_x = np.array([min(X[:,2]), max(X[:,2])])\n",
    "calc_y = (-1 / thetas[2]) * (thetas[1] * plot_x + thetas[0])\n",
    "plot_dataset()\n",
    "pyplot.plot(plot_x, calc_y)"
   ]
  },
  {
   "cell_type": "code",
   "execution_count": null,
   "metadata": {},
   "outputs": [],
   "source": []
  }
 ],
 "metadata": {
  "kernelspec": {
   "display_name": "machine-learning-jupyter-notes",
   "language": "python",
   "name": "machine-learning-jupyter-notes"
  },
  "language_info": {
   "codemirror_mode": {
    "name": "ipython",
    "version": 3
   },
   "file_extension": ".py",
   "mimetype": "text/x-python",
   "name": "python",
   "nbconvert_exporter": "python",
   "pygments_lexer": "ipython3",
   "version": "3.7.4"
  }
 },
 "nbformat": 4,
 "nbformat_minor": 4
}
