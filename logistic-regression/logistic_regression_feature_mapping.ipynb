{
 "cells": [
  {
   "cell_type": "code",
   "execution_count": 1,
   "metadata": {},
   "outputs": [],
   "source": [
    "import math\n",
    "import numpy as np\n",
    "from matplotlib import pyplot\n",
    "import scipy.optimize as opt"
   ]
  },
  {
   "cell_type": "markdown",
   "metadata": {},
   "source": [
    "Logistic regression is a statistical model widely used in Machine Learning to predict outcome that can be classified into well defined groups.\n",
    "For instance: pass/fail, healhy/sick, win/lose etc. It can be also used to classify events - for example, determine whether the image contains specific object (i.e. dog).\n",
    "\n",
    "Because it makes more sense to have a function (model) which values are between 0 and 1, sigmoid function is used as a basic model for prediction outcome.\n",
    "\n",
    "\\begin{align}\n",
    "g(z) = \\dfrac{1}{1 + e^{-z}}\n",
    "\\end{align}\n",
    "\n",
    "Drawing a sigmoid function in Python is easy:"
   ]
  },
  {
   "cell_type": "code",
   "execution_count": 2,
   "metadata": {},
   "outputs": [
    {
     "data": {
      "image/png": "[encoded data removed]",
      "text/plain": [
       "<Figure size 432x288 with 1 Axes>"
      ]
     },
     "metadata": {
      "needs_background": "light"
     },
     "output_type": "display_data"
    }
   ],
   "source": [
    "rand_z = np.arange(-10., 10., 0.01)\n",
    "g = lambda z: 1 / (1 + np.power(math.e, (-z)))\n",
    "calc_g = [g(z) for z in rand_z]\n",
    "\n",
    "pyplot.plot(rand_z, calc_g, color='b', lw=2)\n",
    "pyplot.gca().grid()"
   ]
  },
  {
   "cell_type": "markdown",
   "metadata": {},
   "source": [
    "In the simplest form, everything above value 0.5 is considered to fit the model.\n",
    "Let's import data from CSV file - it was provided as part of a great Andrew Ng's course on coursera. It contains three columns:\n",
    "- Column 1: Result (in %) from first exam\n",
    "- Column 2: Result (in %) from second exam\n",
    "- Column 3: 1 (Accepted) or 0 (Rejected) - indicator whether student got admitted into Uni (based on exam results)\n"
   ]
  },
  {
   "cell_type": "code",
   "execution_count": 3,
   "metadata": {},
   "outputs": [],
   "source": [
    "microchip_results = np.genfromtxt('microchip_test_results.csv', delimiter=',')\n",
    "X = microchip_results[:, [0,1]] # <-- Dataset\n",
    "X = np.concatenate((np.ones((118, 1)), X), axis = 1) # <-- Dataset with 1 added as a first X value\n",
    "y = microchip_results[:, [2]] # <-- Actual outcome"
   ]
  },
  {
   "cell_type": "markdown",
   "metadata": {},
   "source": [
    "Plotting this dataset might be a bit trickier as we need two separate indicators - one for microchips that passed the test and the other one for the ones that failed the test."
   ]
  },
  {
   "cell_type": "code",
   "execution_count": 4,
   "metadata": {},
   "outputs": [
    {
     "data": {
      "image/png": "[encoded data removed]",
      "text/plain": [
       "<Figure size 432x288 with 1 Axes>"
      ]
     },
     "metadata": {
      "needs_background": "light"
     },
     "output_type": "display_data"
    }
   ],
   "source": [
    "def plot_dataset():\n",
    "    positive_X = microchip_results[microchip_results[:, -1] == 1][:, [0, 1]]\n",
    "    negative_X = microchip_results[microchip_results[:, -1] == 0][:, [0, 1]]\n",
    "    positive_X_chip_1 = positive_X[:,[0]]\n",
    "    positive_X_chip_2 = positive_X[:,[1]]\n",
    "    negative_X_chip_1 = negative_X[:,[0]]\n",
    "    negative_X_chip_2 = negative_X[:,[1]]\n",
    "    \n",
    "    \n",
    "    pyplot.plot(positive_X_chip_1, positive_X_chip_2, '*b', label='Passed')\n",
    "    pyplot.plot(negative_X_chip_1, negative_X_chip_2, 'xr', label='Failed')\n",
    "    pyplot.legend(loc='upper right')\n",
    "    pyplot.xlabel('Assessment 1')\n",
    "    pyplot.ylabel('Assessment 2')\n",
    "plot_dataset()"
   ]
  },
  {
   "cell_type": "markdown",
   "metadata": {},
   "source": [
    "Before we move on, we need to introduce **feature mapping** - a function that maps a data vector into feature space.\n",
    "\n",
    "This will allow us to draw a function that will better suit our dataset predictions."
   ]
  },
  {
   "cell_type": "code",
   "execution_count": 5,
   "metadata": {},
   "outputs": [],
   "source": [
    "def map_features(X1, X2):\n",
    "    degree = 6\n",
    "    out = np.ones(X.shape[0])[:,np.newaxis]\n",
    "    for i in range(1, degree+1):\n",
    "        for j in range(i+1):\n",
    "            out = np.hstack((out, np.multiply(np.power(X1, i-j), np.power(X2, j))[:,np.newaxis]))\n",
    "    return out\n",
    "\n",
    "X = map_features(X[:,1], X[:,2])"
   ]
  },
  {
   "cell_type": "markdown",
   "metadata": {},
   "source": [
    "Let's now take a look at some mathematics behind logistic regression.\n",
    "\n",
    "\\begin{align}\n",
    "h = g(X\\theta)\n",
    "\\end{align}\n",
    "\n",
    "We defined $g$ previously - it is a sigmoid function and $\\theta$ is a vector o theta values we want to discover.\n",
    "\n",
    "Vectorized (and regularized) cost function $J$ looks like this:\n",
    "\n",
    "\\begin{align}\n",
    "J(\\theta) = \\dfrac{1}{m} \\sum\\limits_{i=1}^{m}[-y^{(i)}log(h_{\\theta}(x^{(i)})) - (1 - y^{(i)})log(1 - h_{\\theta}(x^{(i)}))] + \\dfrac{\\lambda}{2m}\\sum\\limits_{j=1}^{n} \\theta_{j}^{2}\n",
    "\\end{align}\n",
    "\n",
    "Below is Python code for calculating $J(\\theta)$"
   ]
  },
  {
   "cell_type": "code",
   "execution_count": 6,
   "metadata": {},
   "outputs": [],
   "source": [
    "thetas = np.zeros([np.size(X[0]), 1])\n",
    "LAMBDA = .5\n",
    "m = np.shape(X)[0]\n",
    "h0x = g(X.dot(thetas)).reshape(118, 1)\n",
    "J = (1 / m) * np.sum((-y * np.log(h0x)) - (1 - y) * np.log(1 - h0x)) + LAMBDA / 2 * m * sum(np.power(thetas, 2))"
   ]
  },
  {
   "cell_type": "markdown",
   "metadata": {},
   "source": [
    "...and for calculating derivitive $\\theta$ we need to use the following mathematical formula:\n",
    "\n",
    "\\begin{align}\n",
    "\\frac{\\partial J(\\theta)}{\\partial \\theta_{j}} = \\dfrac{1}{m} \\sum\\limits_{i=1}^{m}(h_{\\theta}(x^{i}) - y^{i})x_{j}^{(i)}\n",
    "\\end{align}\n",
    "\n",
    "Please note that we are just calculating partial derivative of the gradient.\n",
    "\n",
    "Vectorized formula:\n",
    "\n",
    "\\begin{align}\n",
    "\\theta = \\dfrac{1}{m}X^{T}(g(X\\theta) - y)\n",
    "\\end{align}\n",
    "\n",
    "\n",
    "Actual gradient value will by calculated using 3rd party library (SciPy)."
   ]
  },
  {
   "cell_type": "code",
   "execution_count": 7,
   "metadata": {},
   "outputs": [],
   "source": [
    "grad = (1 / m) * X.transpose().dot(h0x - y) + (LAMBDA / m) * thetas\n",
    "grad[0:1] = ((1 / m) * X.transpose().dot(h0x - y))[0:1]"
   ]
  },
  {
   "cell_type": "markdown",
   "metadata": {},
   "source": [
    "Let's combine gradiet and cost calculations into functions:"
   ]
  },
  {
   "cell_type": "code",
   "execution_count": 8,
   "metadata": {},
   "outputs": [],
   "source": [
    "def cost_function_reg(thetas, X, y, LAMBDA):\n",
    "    y = y.reshape(118, 1)\n",
    "    thetas = thetas.reshape(28, 1)\n",
    "    h0x = g(X.dot(thetas)).reshape(118, 1)\n",
    "    m = np.shape(X)[0]\n",
    "    temp_cost =  (1 / m) * np.sum((-y * np.log(h0x)) - (1 - y) * np.log(1 - h0x)) + (LAMBDA / (2 * m)) * sum(np.power(thetas[1:], 2))    \n",
    "    temp_grad = ((1 / m) * X.transpose().dot(h0x - y)) + (LAMBDA / m) * thetas\n",
    "    temp_grad[0:1] = ((1 / m) * X.transpose().dot(h0x - y))[0:1]\n",
    "    return (temp_cost, temp_grad)"
   ]
  },
  {
   "cell_type": "markdown",
   "metadata": {},
   "source": [
    "Now, let's minimize function using SciPy library:"
   ]
  },
  {
   "cell_type": "code",
   "execution_count": 9,
   "metadata": {},
   "outputs": [],
   "source": [
    "thetas = np.zeros(X.shape[1]).reshape(28, 1)\n",
    "thetas = opt.fmin_tnc(func = cost_function_reg, x0 = thetas.flatten(), args = (X, y.flatten(), LAMBDA))[0]"
   ]
  },
  {
   "cell_type": "markdown",
   "metadata": {},
   "source": [
    "With calculated thetas we can plot a function."
   ]
  },
  {
   "cell_type": "code",
   "execution_count": 11,
   "metadata": {},
   "outputs": [
    {
     "data": {
      "image/png": "[encoded data removed]",
      "text/plain": [
       "<Figure size 432x288 with 1 Axes>"
      ]
     },
     "metadata": {
      "needs_background": "light"
     },
     "output_type": "display_data"
    }
   ],
   "source": [
    "u = np.linspace(-1, 1.5, 50)\n",
    "v = np.linspace(-1, 1.5, 50)\n",
    "z = np.zeros((len(u), len(v)))\n",
    "\n",
    "def map_feature_for_plotting(X1, X2):\n",
    "    degree = 6\n",
    "    out = np.ones(1)\n",
    "    for i in range(1, degree+1):\n",
    "        for j in range(i+1):\n",
    "            out = np.hstack((out, np.multiply(np.power(X1, i-j), np.power(X2, j))))\n",
    "    return out\n",
    "\n",
    "for i in range(len(u)):\n",
    "    for j in range(len(v)):\n",
    "        z[i,j] = np.dot(map_feature_for_plotting(u[i], v[j]), thetas)\n",
    "\n",
    "plot_dataset()\n",
    "pyplot.contour(u,v,z,0)\n",
    "pyplot.xlabel('Microchip Test1')\n",
    "pyplot.ylabel('Microchip Test2')\n",
    "pyplot.show()"
   ]
  },
  {
   "cell_type": "code",
   "execution_count": null,
   "metadata": {},
   "outputs": [],
   "source": []
  }
 ],
 "metadata": {
  "kernelspec": {
   "display_name": "machine-learning-jupyter-notes",
   "language": "python",
   "name": "machine-learning-jupyter-notes"
  },
  "language_info": {
   "codemirror_mode": {
    "name": "ipython",
    "version": 3
   },
   "file_extension": ".py",
   "mimetype": "text/x-python",
   "name": "python",
   "nbconvert_exporter": "python",
   "pygments_lexer": "ipython3",
   "version": "3.7.4"
  }
 },
 "nbformat": 4,
 "nbformat_minor": 4
}
