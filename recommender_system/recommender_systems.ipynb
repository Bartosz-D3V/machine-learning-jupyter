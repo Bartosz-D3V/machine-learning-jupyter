{
 "cells": [
  {
   "cell_type": "markdown",
   "metadata": {},
   "source": [
    "# Recommender systems - Collaborative Filtering"
   ]
  },
  {
   "cell_type": "markdown",
   "metadata": {},
   "source": [
    "## Introduction\n",
    "\n",
    "There are many different algorithms that allows to calculate (predict) products/services that customer might like based on their opinions on other products.\n",
    "\n",
    "One of the most popular one is **Collaborative Filtering**. It is a method of making automatic predictions on user's preferences based on others people taste/preferences.\n",
    "\n",
    "The underlying principle behind the algorithm is that if person **A** has the same opinion on issue as person **B**, then person **A** is more likely to have **B**'s opinion on a different issue rather than any other random person.\n",
    "\n",
    "Putting everything together - collaborative filtering predicts user opinion on an issue based on opinions of other people that had similar opinions on different issues."
   ]
  },
  {
   "cell_type": "markdown",
   "metadata": {},
   "source": [
    "## Dataset\n",
    "\n",
    "The most important part of the collaborative filtering is (no surprise) - dataset.\n",
    "\n",
    "In the following example we will load ***/data/ex8_movies.mat*** - it contains matrices **r** and **y**.\n",
    "\n",
    "r is a matrix indicating whether the given user provided us their rating for a particular movie. It is a matrix of a size number of movies x number of users that contains 1 if user provided a rating, or 0 otherwise.\n",
    "\n",
    "y is a matrix containing the ratings of each movie provided by each user. It is a matrix of a size number of movies x number of users that contains a number from 0 to 5."
   ]
  },
  {
   "cell_type": "markdown",
   "metadata": {},
   "source": [
    "## Global imports"
   ]
  },
  {
   "cell_type": "code",
   "execution_count": 4,
   "metadata": {},
   "outputs": [],
   "source": [
    "import numpy as np\n",
    "from matplotlib import pyplot as plt\n",
    "\n",
    "from load_mat import load_mat"
   ]
  },
  {
   "cell_type": "markdown",
   "metadata": {},
   "source": [
    "## Visualizing dataset\n",
    "\n",
    "To simply visualize a dataset, numpy's **imshow** function can be used."
   ]
  },
  {
   "cell_type": "code",
   "execution_count": 5,
   "metadata": {},
   "outputs": [
    {
     "name": "stdout",
     "output_type": "stream",
     "text": [
      "Average rating for movie 1 (Toy Story) is: 3.21\n"
     ]
    },
    {
     "data": {
      "image/png": "[encoded data removed]",
      "text/plain": [
       "<Figure size 432x288 with 2 Axes>"
      ]
     },
     "metadata": {
      "needs_background": "light"
     },
     "output_type": "display_data"
    }
   ],
   "source": [
    "from visualize_matrix import visualize_matrix\n",
    "\n",
    "r, y = load_mat('./data/ex8_movies.mat', 'R', 'Y')\n",
    "\n",
    "print(f\"Average rating for movie 1 (Toy Story) is: {round(float(np.mean(y[1, r[1, :] == 1])), 2)}\")\n",
    "visualize_matrix(plt, y)\n",
    "plt.show()"
   ]
  },
  {
   "cell_type": "code",
   "execution_count": null,
   "metadata": {},
   "outputs": [],
   "source": []
  }
 ],
 "metadata": {
  "kernelspec": {
   "display_name": "machine-learning-jupyter-notes",
   "language": "python",
   "name": "machine-learning-jupyter-notes"
  },
  "language_info": {
   "codemirror_mode": {
    "name": "ipython",
    "version": 3
   },
   "file_extension": ".py",
   "mimetype": "text/x-python",
   "name": "python",
   "nbconvert_exporter": "python",
   "pygments_lexer": "ipython3",
   "version": "3.7.4"
  }
 },
 "nbformat": 4,
 "nbformat_minor": 4
}
