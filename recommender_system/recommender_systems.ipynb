{
 "cells": [
  {
   "cell_type": "markdown",
   "metadata": {},
   "source": [
    "# Recommender systems - Collaborative Filtering"
   ]
  },
  {
   "cell_type": "markdown",
   "metadata": {},
   "source": [
    "## Global imports"
   ]
  },
  {
   "cell_type": "code",
   "execution_count": 1,
   "metadata": {},
   "outputs": [],
   "source": [
    "import numpy as np\n",
    "from matplotlib import pyplot as plt\n",
    "\n",
    "from load_mat import load_mat"
   ]
  },
  {
   "cell_type": "markdown",
   "metadata": {},
   "source": [
    "## Introduction\n",
    "\n",
    "There are many different algorithms that allows to calculate (predict) products/services that customer might like based on their opinions on other products.\n",
    "\n",
    "One of the most popular one is **Collaborative Filtering**. It is a method of making automatic predictions on user's preferences based on others people taste/preferences.\n",
    "\n",
    "The underlying principle behind the algorithm is that if person **A** has the same opinion on issue as person **B**, then person **A** is more likely to have **B**'s opinion on a different issue rather than any other random person.\n",
    "\n",
    "Putting everything together - collaborative filtering predicts user opinion on an issue based on opinions of other people that had similar opinions on different issues."
   ]
  },
  {
   "cell_type": "markdown",
   "metadata": {},
   "source": [
    "## Dataset - reviews\n",
    "\n",
    "The most important part of the collaborative filtering is (no surprise) - dataset.\n",
    "\n",
    "In the following example we will load ***/data/ex8_movies.mat*** - it contains matrices **r** and **y**.\n",
    "\n",
    "r is a matrix indicating whether the given user provided us their rating for a particular movie. It is a matrix of a size number of movies x number of users that contains 1 if user provided a rating, or 0 otherwise.\n",
    "\n",
    "y is a matrix containing the ratings of each movie provided by each user. It is a matrix of a size number of movies x number of users that contains a number from 0 to 5."
   ]
  },
  {
   "cell_type": "markdown",
   "metadata": {},
   "source": [
    "### Visualizing dataset\n",
    "\n",
    "To simply visualize a dataset, numpy's **imshow** function can be used."
   ]
  },
  {
   "cell_type": "code",
   "execution_count": 2,
   "metadata": {},
   "outputs": [
    {
     "name": "stdout",
     "output_type": "stream",
     "text": [
      "Average rating for movie 1 (Toy Story) is: 3.21\n"
     ]
    },
    {
     "data": {
      "image/png": "[encoded data removed]",
      "text/plain": [
       "<Figure size 432x288 with 2 Axes>"
      ]
     },
     "metadata": {
      "needs_background": "light"
     },
     "output_type": "display_data"
    }
   ],
   "source": [
    "from visualize_matrix import visualize_matrix\n",
    "\n",
    "r, y = load_mat('./data/ex8_movies.mat', 'R', 'Y')\n",
    "\n",
    "print(f\"Average rating for movie 1 (Toy Story) is: {round(float(np.mean(y[1, r[1, :] == 1])), 2)}\")\n",
    "visualize_matrix(plt, y)\n",
    "plt.show()"
   ]
  },
  {
   "cell_type": "markdown",
   "metadata": {},
   "source": [
    "## Dataset - movies\n",
    "\n",
    "The list of all the movies is defined in ***data/movies.csv*** file. It is a simple CSV file with one column containing movie title."
   ]
  },
  {
   "cell_type": "code",
   "execution_count": 3,
   "metadata": {},
   "outputs": [
    {
     "name": "stdout",
     "output_type": "stream",
     "text": [
      "First 5 movies:\n",
      "['Toy Story (1995)' 'GoldenEye (1995)' 'Four Rooms (1995)'\n",
      " 'Get Shorty (1995)' 'Copycat (1995)']\n"
     ]
    }
   ],
   "source": [
    "movies = np.genfromtxt('./data/movies.csv', delimiter='|', dtype=bytes).astype(str)\n",
    "\n",
    "print('First 5 movies:')\n",
    "print(movies[0:5])"
   ]
  },
  {
   "cell_type": "markdown",
   "metadata": {},
   "source": [
    "## Cost function\n",
    "\n",
    "Minimizing $x^{(1)},...,x^{(n_{m})}$ and $\\theta^{(1)},...,\\theta^{(n_{u})}$ simultanously:\n",
    "\n",
    "\\begin{align}\n",
    "\\min_{\\substack{x^{(1)},...,x^{(n_{m})} \\\\ \\theta^{(1)},...,\\theta^{(n_{u})}}} J(x^{(1)},...,x^{(n_{m})}, \\theta^{(1)},...,\\theta^{(n_{u})}) = \\dfrac{1}{2} \\sum_{(i,j):r(i,j)=1}((\\theta^{(j)})^{T}x^{(i)}-y^{(i,j)})^{2} + \\dfrac{\\lambda}{2} + \\sum^{n_{m}}_{i=1}\\sum^{n}_{k=1}(x^{(i)}_{k})^{2} + \\dfrac{\\lambda}{2}\\sum^{n_{u}}_{k=1}(\\theta^{(j)}_{k})^{2}\n",
    "\\end{align}"
   ]
  },
  {
   "cell_type": "markdown",
   "metadata": {},
   "source": [
    "## Cost function - implementation\n",
    "\n",
    "Cost function is the most difficult part - it is part of ***cofi_cost_function.py*** file.\n",
    "\n",
    "The important part is that minimizing function accept single parameter which has to be 1-D array, therefore we need to roll and un-roll parameters at the beginning and end of the function execution."
   ]
  },
  {
   "cell_type": "code",
   "execution_count": 4,
   "metadata": {},
   "outputs": [],
   "source": [
    "def cofi_cost_function(params, y, r, num_users, num_movies, num_features, lambda_param):\n",
    "    params = array_to_vector(params)\n",
    "    # Unroll parameters x & theta\n",
    "    x = np.array(params[0:num_movies * num_features]).reshape((num_movies, num_features), order='F')\n",
    "    theta = np.array(params[num_movies * num_features:, :]).reshape((num_users, num_features), order='F')\n",
    "\n",
    "    regularized = ((lambda_param / 2) * np.sum(np.sum(theta ** 2))) + (lambda_param / 2) * np.sum(np.sum(x ** 2))\n",
    "    cost_j = .5 * np.sum(np.sum(((x @ theta.T - y) * r) ** 2)) + regularized\n",
    "    x_grad = ((x @ theta.T - y) * r) @ theta + lambda_param * x\n",
    "    theta_grad = ((x @ theta.T - y) * r).T @ x + lambda_param * theta\n",
    "    grad = array_to_vector(np.concatenate([x_grad.ravel(order='F'), theta_grad.ravel(order='F')]))\n",
    "    return cost_j, grad"
   ]
  },
  {
   "cell_type": "markdown",
   "metadata": {},
   "source": [
    "## (Optional) adding own data\n",
    "\n",
    "We can add our own *reviews* to see what the algorithm could propose us to watch next."
   ]
  },
  {
   "cell_type": "code",
   "execution_count": 5,
   "metadata": {},
   "outputs": [],
   "source": [
    "my_ratings = np.zeros((np.size(movies, 0), 1))\n",
    "\n",
    "# Toy Story - mark as 5 star movie\n",
    "my_ratings[0] = 5\n",
    "# Seven (Se7en)\n",
    "my_ratings[10] = 4\n",
    "# Braveheart\n",
    "my_ratings[21] = 2\n",
    "# Apollo 13\n",
    "my_ratings[26] = 5\n",
    "# Pulp Fiction\n",
    "my_ratings[55] = 5\n",
    "# Ace Ventura: Pet Detective\n",
    "my_ratings[66] = 1\n",
    "# Flipper\n",
    "my_ratings[111] = 2\n",
    "# Apocalypse Now\n",
    "my_ratings[179] = 4\n",
    "\n",
    "y = np.append(my_ratings, y, axis=1)\n",
    "r = np.append((my_ratings != 0).astype(int), r, axis=1)"
   ]
  },
  {
   "cell_type": "markdown",
   "metadata": {},
   "source": [
    "## Preparing data\n",
    "\n",
    "As cofi_cost_function takes number of additional arguments, we need to propare those.\n",
    "\n",
    "**r** and **y** is data collected from users (matlab file). The rest of the parameters can be easily calculated:"
   ]
  },
  {
   "cell_type": "code",
   "execution_count": 6,
   "metadata": {},
   "outputs": [],
   "source": [
    "num_movies = np.size(movies, 0)\n",
    "my_ratings = np.zeros((num_movies, 1))\n",
    "num_users = np.size(y, 1)\n",
    "num_features = 10"
   ]
  },
  {
   "cell_type": "markdown",
   "metadata": {},
   "source": [
    "## Normalizing data\n",
    "\n",
    "As reviews range from 1 to 5, we need to normalize the data so none will have too big impact on calculations."
   ]
  },
  {
   "cell_type": "code",
   "execution_count": 7,
   "metadata": {},
   "outputs": [],
   "source": [
    "from normalize_ratings import normalize_ratings\n",
    "\n",
    "y_norm, y_mean = normalize_ratings(y, r)"
   ]
  },
  {
   "cell_type": "markdown",
   "metadata": {},
   "source": [
    "## Random x & theta initialization\n",
    "\n",
    "**x** and **theta** will be calculated by the optimization algorithm, to start with we initialize those randomly."
   ]
  },
  {
   "cell_type": "code",
   "execution_count": 8,
   "metadata": {},
   "outputs": [],
   "source": [
    "x = np.random.rand(num_movies, num_features)\n",
    "theta = np.random.rand(num_users, num_features)\n",
    "initial_parameters = np.concatenate([x.ravel(order='F'), theta.ravel(order='F')])\n",
    "lambda_param = 10"
   ]
  },
  {
   "cell_type": "markdown",
   "metadata": {},
   "source": [
    "## Optimizing function\n",
    "\n",
    "Having all data in place, we can use minimize function to find optimal **x** and **theta**. In this example I am going to use TNC."
   ]
  },
  {
   "cell_type": "code",
   "execution_count": 9,
   "metadata": {},
   "outputs": [],
   "source": [
    "from scipy.optimize import fmin_tnc\n",
    "\n",
    "from array_to_vector import array_to_vector\n",
    "from cofi_cost_function import cofi_cost_function\n",
    "\n",
    "calculated_params = fmin_tnc(func=cofi_cost_function, x0=initial_parameters, args=(y_norm, r, num_users, num_movies, num_features, lambda_param))[0]\n",
    "calculated_params = array_to_vector(calculated_params)\n",
    "\n",
    "# Unwrap calculated parameters\n",
    "calculated_x = np.array(calculated_params[0:num_movies * num_features]).reshape((num_movies, num_features), order='F')\n",
    "calculated_theta = np.array(calculated_params[num_movies * num_features:, :]).reshape((num_users, num_features), order='F')"
   ]
  },
  {
   "cell_type": "markdown",
   "metadata": {},
   "source": [
    "## Predictions\n",
    "\n",
    "After training the dataset, we can use the calculated values of **x** and **theta** to check predictions."
   ]
  },
  {
   "cell_type": "code",
   "execution_count": 10,
   "metadata": {},
   "outputs": [
    {
     "name": "stdout",
     "output_type": "stream",
     "text": [
      "Your recommended movies: \n",
      "Aiqing wansui (1994)\n",
      "Someone Else's America (1995)\n",
      "Star Kid (1997)\n",
      "Entertaining Angels: The Dorothy Day Story (1996)\n",
      "Saint of Fort Washington, The (1993)\n"
     ]
    }
   ],
   "source": [
    "prediction = calculated_x @ calculated_theta.T\n",
    "my_predictions = np.asmatrix(prediction[:, 0]).T + y_mean\n",
    "top_my_predictions_indices = np.argpartition(my_predictions, -5, axis=0)[-5:]\n",
    "top_movies = movies[top_my_predictions_indices.T]\n",
    "print(f\"Your recommended movies: \\n{chr(10).join(list(top_movies.ravel()))}\")"
   ]
  }
 ],
 "metadata": {
  "kernelspec": {
   "display_name": "machine-learning-jupyter-notes",
   "language": "python",
   "name": "machine-learning-jupyter-notes"
  },
  "language_info": {
   "codemirror_mode": {
    "name": "ipython",
    "version": 3
   },
   "file_extension": ".py",
   "mimetype": "text/x-python",
   "name": "python",
   "nbconvert_exporter": "python",
   "pygments_lexer": "ipython3",
   "version": "3.7.4"
  }
 },
 "nbformat": 4,
 "nbformat_minor": 4
}
