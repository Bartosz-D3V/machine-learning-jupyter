{
 "cells": [
  {
   "cell_type": "code",
   "execution_count": null,
   "metadata": {},
   "outputs": [],
   "source": [
    "import math\n",
    "import random\n",
    "import numpy as np\n",
    "import scipy.io as sio\n",
    "import scipy.optimize as opt\n",
    "from matplotlib import pyplot as plt"
   ]
  },
  {
   "cell_type": "markdown",
   "metadata": {},
   "source": [
    "Neurons are basically computational units that take inputs and channel them to outputs using hidden layer.\n",
    "Hidden layer will use a sigmoid function as an **activation function**.\n",
    "\n",
    "With one hidden layer, vectorized implementation of neural networks might look like this:\n",
    "$$\n",
    "\\quad\n",
    "\\begin{bmatrix}\n",
    "x_0 \\\\\n",
    "x_1 \\\\\n",
    "x_2 \\\\\n",
    "x_3\n",
    "\\end{bmatrix} \\rightarrow\n",
    "\\begin{bmatrix}\n",
    "a_1^{2} \\\\\n",
    "a_2^{2} \\\\\n",
    "a_3^{2}\n",
    "\\end{bmatrix} \\rightarrow\n",
    "h(x)\n",
    "$$\n",
    "\n",
    "Each *a* represent an activation unit.\n",
    "$$\n",
    "a_i^{(j)} \\text{- \"activation\" of unit i in layer j}\n",
    "\\\\\n",
    "\\Theta^{(j)} \\text{- matrix of \"weights\"}\n",
    "$$\n",
    "\n",
    "Each activation node *a* can be calculated in the following way:\n",
    "\\begin{align*} a_1^{(2)} = g(\\Theta_{10}^{(1)}x_0 + \\Theta_{11}^{(1)}x_1 + \\Theta_{12}^{(1)}x_2 + \\Theta_{13}^{(1)}x_3) \\newline a_2^{(2)} = g(\\Theta_{20}^{(1)}x_0 + \\Theta_{21}^{(1)}x_1 + \\Theta_{22}^{(1)}x_2 + \\Theta_{23}^{(1)}x_3) \\newline a_3^{(2)} = g(\\Theta_{30}^{(1)}x_0 + \\Theta_{31}^{(1)}x_1 + \\Theta_{32}^{(1)}x_2 + \\Theta_{33}^{(1)}x_3) \\newline h_\\Theta(x) = a_1^{(3)} = g(\\Theta_{10}^{(2)}a_0^{(2)} + \\Theta_{11}^{(2)}a_1^{(2)} + \\Theta_{12}^{(2)}a_2^{(2)} + \\Theta_{13}^{(2)}a_3^{(2)}) \\newline \\end{align*}"
   ]
  },
  {
   "cell_type": "markdown",
   "metadata": {},
   "source": [
    "## Activation function\n",
    "\n",
    "Activation function is just a sigmoid function and can be easily calculated using Python:"
   ]
  },
  {
   "cell_type": "code",
   "execution_count": null,
   "metadata": {},
   "outputs": [],
   "source": [
    "def sigmoid(z):\n",
    "    return 1 / (1 + math.e ** (-z))"
   ]
  },
  {
   "cell_type": "code",
   "execution_count": null,
   "metadata": {},
   "outputs": [],
   "source": [
    "def plot_sigmoid():\n",
    "    rand_dataset = np.arange(-10., 10., 0.01)\n",
    "    calculated_dataset = [sigmoid(x) for x in rand_dataset]\n",
    "    plt.plot(rand_dataset, calculated_dataset, color='b', lw=2)\n",
    "    plt.gca().grid()\n",
    "\n",
    "plot_sigmoid()"
   ]
  },
  {
   "cell_type": "markdown",
   "metadata": {},
   "source": [
    "## Reading data"
   ]
  },
  {
   "cell_type": "markdown",
   "metadata": {},
   "source": [
    "Andrew's course provides a *.mat file that contains the X and Y values.\n",
    "\n",
    "X is a matrix of size 5000 x 400 - in other words it contains 5000 'images' of 400 pixels each - i.e. size of each picture is 20 x 20 pixels.\n",
    "\n",
    "Y is a vector of size 5000 - it contains a single value that represent the actual number displayed in the image. 1 for '1'. 2 for '2' etc. it is just a 0 that is saved in the vector as '10'."
   ]
  },
  {
   "cell_type": "code",
   "execution_count": null,
   "metadata": {},
   "outputs": [],
   "source": [
    "def load_mat(filename, col_1, col_2):\n",
    "    mat_data = sio.loadmat(filename)\n",
    "    return mat_data[col_1], mat_data[col_2]\n",
    "\n",
    "X, Y = load_mat('./ex4data1.mat', 'X', 'y')"
   ]
  },
  {
   "cell_type": "markdown",
   "metadata": {},
   "source": [
    "## Reading weights\n",
    "\n",
    "During the course, there is also a *.mat file provided with weights - i.e. parameters Theta1 and Theta2 that we can use.\n",
    "These are pre-trained solution for our model so we can immediately use those for computations."
   ]
  },
  {
   "cell_type": "code",
   "execution_count": 11,
   "metadata": {},
   "outputs": [],
   "source": [
    "theta_1, theta_2 = load_mat('./ex4weights.mat', 'Theta1', 'Theta2')\n",
    "# Parameters 'unrolled' into single vector\n",
    "nn_params = np.concatenate((theta_1.flatten(), theta_2.flatten())).reshape(10285, 1)"
   ]
  },
  {
   "cell_type": "markdown",
   "metadata": {},
   "source": [
    "## Visualizing data\n",
    "\n",
    "To better understand how the images look like, let's visualize them by selecting random 25 images."
   ]
  },
  {
   "cell_type": "code",
   "execution_count": 12,
   "metadata": {},
   "outputs": [
    {
     "data": {
      "image/png": "[encoded data removed]",
      "text/plain": [
       "<Figure size 432x288 with 25 Axes>"
      ]
     },
     "metadata": {
      "needs_background": "light"
     },
     "output_type": "display_data"
    }
   ],
   "source": [
    "def get_random_img_with_label(x_matrix, y_vector):\n",
    "    size = np.size(x_matrix, 0)\n",
    "    rand_img_loc = random.randint(0, size)\n",
    "    return x_matrix[rand_img_loc].reshape(20, 20), y_vector[rand_img_loc, 0]\n",
    "\n",
    "def plot_images(images):\n",
    "    f, axarr = plt.subplots(5, 5)\n",
    "    for i in range(0, 5):\n",
    "        for j in range(0, 5):\n",
    "            img, label = images[i + j]\n",
    "            axarr[i, j].set_xticklabels([])\n",
    "            axarr[i, j].set_yticklabels([])\n",
    "            axarr[i, j].imshow(img)\n",
    "            axarr[i, j].text(0, -2, f\"Num: {0 if label == 10 else label}\")\n",
    "    f.tight_layout()\n",
    "\n",
    "images = [get_random_img_with_label(X, Y) for x in range(0, 25)]\n",
    "plot_images(images)"
   ]
  },
  {
   "cell_type": "markdown",
   "metadata": {},
   "source": [
    "## Neural Network Cost Function"
   ]
  },
  {
   "cell_type": "code",
   "execution_count": null,
   "metadata": {},
   "outputs": [],
   "source": []
  }
 ],
 "metadata": {
  "kernelspec": {
   "display_name": "machine-learning-jupyter-notes",
   "language": "python",
   "name": "machine-learning-jupyter-notes"
  },
  "language_info": {
   "codemirror_mode": {
    "name": "ipython",
    "version": 3
   },
   "file_extension": ".py",
   "mimetype": "text/x-python",
   "name": "python",
   "nbconvert_exporter": "python",
   "pygments_lexer": "ipython3",
   "version": "3.7.4"
  }
 },
 "nbformat": 4,
 "nbformat_minor": 4
}
